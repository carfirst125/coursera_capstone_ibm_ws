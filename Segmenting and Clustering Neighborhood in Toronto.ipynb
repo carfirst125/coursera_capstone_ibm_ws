{
    "nbformat_minor": 1, 
    "cells": [
        {
            "source": "### Segmenting and Clustering Neighborhoods in Toronto\nThis Notebook will do:\n- Scraping data from wikipedia page using BeautifulSoup package\n- Processing data\n", 
            "cell_type": "markdown", 
            "metadata": {
                "collapsed": true
            }
        }, 
        {
            "execution_count": 181, 
            "cell_type": "code", 
            "metadata": {}, 
            "outputs": [], 
            "source": "import numpy as np\nimport pandas as pd\nimport urllib3\nfrom bs4 import BeautifulSoup"
        }, 
        {
            "execution_count": 182, 
            "cell_type": "code", 
            "metadata": {}, 
            "outputs": [
                {
                    "output_type": "stream", 
                    "name": "stderr", 
                    "text": "/opt/conda/envs/DSX-Python35/lib/python3.5/site-packages/urllib3/connectionpool.py:858: InsecureRequestWarning: Unverified HTTPS request is being made. Adding certificate verification is strongly advised. See: https://urllib3.readthedocs.io/en/latest/advanced-usage.html#ssl-warnings\n  InsecureRequestWarning)\n"
                }
            ], 
            "source": "http = urllib3.PoolManager()\nr = http.request('GET', 'https://en.wikipedia.org/wiki/List_of_postal_codes_of_Canada:_M')\n#print (r.data)"
        }, 
        {
            "execution_count": 183, 
            "cell_type": "code", 
            "metadata": {}, 
            "outputs": [], 
            "source": "#soup = BeautifulSoup(r.data, 'html.parser')\n#print(soup.prettify())"
        }, 
        {
            "execution_count": 184, 
            "cell_type": "code", 
            "metadata": {}, 
            "outputs": [], 
            "source": "#f = open(\"wiki_toronto.html\", \"w\")\n#f.write(soup.prettify())\n#print (\"COMPLETED: Save web html with name, wiki_toronto.html\")\n#f.close()"
        }, 
        {
            "execution_count": 185, 
            "cell_type": "code", 
            "metadata": {}, 
            "outputs": [], 
            "source": "import re\n\nbs = BeautifulSoup(r.data, 'html.parser')\ntable_body=bs.find('tbody')\n#print (table_body)\n\n#declare some list as global\nneighbor_list = []\ncolumns = []\nnb_data = []\n\ntr_rows = bs.find_all('tr')\n#print (tr_rows)"
        }, 
        {
            "execution_count": 186, 
            "cell_type": "code", 
            "metadata": {}, 
            "outputs": [
                {
                    "output_type": "stream", 
                    "name": "stdout", 
                    "text": "###########################\ncolumns =  ['Postcode', 'Borough', 'Neighbourhood']\nnb_data =  [['M1A', 'Not assigned', 'Not assigned'], ['M2A', 'Not assigned', 'Not assigned'], ['M3A', 'North York', 'Parkwoods'], ['M4A', 'North York', 'Victoria Village'], ['M5A', 'Downtown Toronto', 'Harbourfront'], ['M5A', 'Downtown Toronto', 'Regent Park'], ['M6A', 'North York', 'Lawrence Heights'], ['M6A', 'North York', 'Lawrence Manor'], ['M7A', \"Queen's Park\", 'Not assigned'], ['M8A', 'Not assigned', 'Not assigned'], ['M9A', 'Etobicoke', 'Islington Avenue'], ['M1B', 'Scarborough', 'Rouge'], ['M1B', 'Scarborough', 'Malvern'], ['M2B', 'Not assigned', 'Not assigned'], ['M3B', 'North York', 'Don Mills North'], ['M4B', 'East York', 'Woodbine Gardens'], ['M4B', 'East York', 'Parkview Hill'], ['M5B', 'Downtown Toronto', 'Ryerson'], ['M5B', 'Downtown Toronto', 'Garden District'], ['M6B', 'North York', 'Glencairn'], ['M7B', 'Not assigned', 'Not assigned'], ['M8B', 'Not assigned', 'Not assigned'], ['M9B', 'Etobicoke', 'Cloverdale'], ['M9B', 'Etobicoke', 'Islington'], ['M9B', 'Etobicoke', 'Martin Grove'], ['M9B', 'Etobicoke', 'Princess Gardens'], ['M9B', 'Etobicoke', 'West Deane Park'], ['M1C', 'Scarborough', 'Highland Creek'], ['M1C', 'Scarborough', 'Rouge Hill'], ['M1C', 'Scarborough', 'Port Union'], ['M2C', 'Not assigned', 'Not assigned'], ['M3C', 'North York', 'Flemingdon Park'], ['M3C', 'North York', 'Don Mills South'], ['M4C', 'East York', 'Woodbine Heights'], ['M5C', 'Downtown Toronto', 'St. James Town'], ['M6C', 'York', 'Humewood-Cedarvale'], ['M7C', 'Not assigned', 'Not assigned'], ['M8C', 'Not assigned', 'Not assigned'], ['M9C', 'Etobicoke', 'Bloordale Gardens'], ['M9C', 'Etobicoke', 'Eringate'], ['M9C', 'Etobicoke', 'Markland Wood'], ['M9C', 'Etobicoke', 'Old Burnhamthorpe'], ['M1E', 'Scarborough', 'Guildwood'], ['M1E', 'Scarborough', 'Morningside'], ['M1E', 'Scarborough', 'West Hill'], ['M2E', 'Not assigned', 'Not assigned'], ['M3E', 'Not assigned', 'Not assigned'], ['M4E', 'East Toronto', 'The Beaches'], ['M5E', 'Downtown Toronto', 'Berczy Park'], ['M6E', 'York', 'Caledonia-Fairbanks'], ['M7E', 'Not assigned', 'Not assigned'], ['M8E', 'Not assigned', 'Not assigned'], ['M9E', 'Not assigned', 'Not assigned'], ['M1G', 'Scarborough', 'Woburn'], ['M2G', 'Not assigned', 'Not assigned'], ['M3G', 'Not assigned', 'Not assigned'], ['M4G', 'East York', 'Leaside'], ['M5G', 'Downtown Toronto', 'Central Bay Street'], ['M6G', 'Downtown Toronto', 'Christie'], ['M7G', 'Not assigned', 'Not assigned'], ['M8G', 'Not assigned', 'Not assigned'], ['M9G', 'Not assigned', 'Not assigned'], ['M1H', 'Scarborough', 'Cedarbrae'], ['M2H', 'North York', 'Hillcrest Village'], ['M3H', 'North York', 'Bathurst Manor'], ['M3H', 'North York', 'Downsview North'], ['M3H', 'North York', 'Wilson Heights'], ['M4H', 'East York', 'Thorncliffe Park'], ['M5H', 'Downtown Toronto', 'Adelaide'], ['M5H', 'Downtown Toronto', 'King'], ['M5H', 'Downtown Toronto', 'Richmond'], ['M6H', 'West Toronto', 'Dovercourt Village'], ['M6H', 'West Toronto', 'Dufferin'], ['M7H', 'Not assigned', 'Not assigned'], ['M8H', 'Not assigned', 'Not assigned'], ['M9H', 'Not assigned', 'Not assigned'], ['M1J', 'Scarborough', 'Scarborough Village'], ['M2J', 'North York', 'Fairview'], ['M2J', 'North York', 'Henry Farm'], ['M2J', 'North York', 'Oriole'], ['M3J', 'North York', 'Northwood Park'], ['M3J', 'North York', 'York University'], ['M4J', 'East York', 'East Toronto'], ['M5J', 'Downtown Toronto', 'Harbourfront East'], ['M5J', 'Downtown Toronto', 'Toronto Islands'], ['M5J', 'Downtown Toronto', 'Union Station'], ['M6J', 'West Toronto', 'Little Portugal'], ['M6J', 'West Toronto', 'Trinity'], ['M7J', 'Not assigned', 'Not assigned'], ['M8J', 'Not assigned', 'Not assigned'], ['M9J', 'Not assigned', 'Not assigned'], ['M1K', 'Scarborough', 'East Birchmount Park'], ['M1K', 'Scarborough', 'Ionview'], ['M1K', 'Scarborough', 'Kennedy Park'], ['M2K', 'North York', 'Bayview Village'], ['M3K', 'North York', 'CFB Toronto'], ['M3K', 'North York', 'Downsview East'], ['M4K', 'East Toronto', 'The Danforth West'], ['M4K', 'East Toronto', 'Riverdale'], ['M5K', 'Downtown Toronto', 'Design Exchange'], ['M5K', 'Downtown Toronto', 'Toronto Dominion Centre'], ['M6K', 'West Toronto', 'Brockton'], ['M6K', 'West Toronto', 'Exhibition Place'], ['M6K', 'West Toronto', 'Parkdale Village'], ['M7K', 'Not assigned', 'Not assigned'], ['M8K', 'Not assigned', 'Not assigned'], ['M9K', 'Not assigned', 'Not assigned'], ['M1L', 'Scarborough', 'Clairlea'], ['M1L', 'Scarborough', 'Golden Mile'], ['M1L', 'Scarborough', 'Oakridge'], ['M2L', 'North York', 'Silver Hills'], ['M2L', 'North York', 'York Mills'], ['M3L', 'North York', 'Downsview West'], ['M4L', 'East Toronto', 'The Beaches West'], ['M4L', 'East Toronto', 'India Bazaar'], ['M5L', 'Downtown Toronto', 'Commerce Court'], ['M5L', 'Downtown Toronto', 'Victoria Hotel'], ['M6L', 'North York', 'Downsview'], ['M6L', 'North York', 'North Park'], ['M6L', 'North York', 'Upwood Park'], ['M7L', 'Not assigned', 'Not assigned'], ['M8L', 'Not assigned', 'Not assigned'], ['M9L', 'North York', 'Humber Summit'], ['M1M', 'Scarborough', 'Cliffcrest'], ['M1M', 'Scarborough', 'Cliffside'], ['M1M', 'Scarborough', 'Scarborough Village West'], ['M2M', 'North York', 'Newtonbrook'], ['M2M', 'North York', 'Willowdale'], ['M3M', 'North York', 'Downsview Central'], ['M4M', 'East Toronto', 'Studio District'], ['M5M', 'North York', 'Bedford Park'], ['M5M', 'North York', 'Lawrence Manor East'], ['M6M', 'York', 'Del Ray'], ['M6M', 'York', 'Keelesdale'], ['M6M', 'York', 'Mount Dennis'], ['M6M', 'York', 'Silverthorn'], ['M7M', 'Not assigned', 'Not assigned'], ['M8M', 'Not assigned', 'Not assigned'], ['M9M', 'North York', 'Emery'], ['M9M', 'North York', 'Humberlea'], ['M1N', 'Scarborough', 'Birch Cliff'], ['M1N', 'Scarborough', 'Cliffside West'], ['M2N', 'North York', 'Willowdale South'], ['M3N', 'North York', 'Downsview Northwest'], ['M4N', 'Central Toronto', 'Lawrence Park'], ['M5N', 'Central Toronto', 'Roselawn'], ['M6N', 'York', 'The Junction North'], ['M6N', 'York', 'Runnymede'], ['M7N', 'Not assigned', 'Not assigned'], ['M8N', 'Not assigned', 'Not assigned'], ['M9N', 'York', 'Weston'], ['M1P', 'Scarborough', 'Dorset Park'], ['M1P', 'Scarborough', 'Scarborough Town Centre'], ['M1P', 'Scarborough', 'Wexford Heights'], ['M2P', 'North York', 'York Mills West'], ['M3P', 'Not assigned', 'Not assigned'], ['M4P', 'Central Toronto', 'Davisville North'], ['M5P', 'Central Toronto', 'Forest Hill North'], ['M5P', 'Central Toronto', 'Forest Hill West'], ['M6P', 'West Toronto', 'High Park'], ['M6P', 'West Toronto', 'The Junction South'], ['M7P', 'Not assigned', 'Not assigned'], ['M8P', 'Not assigned', 'Not assigned'], ['M9P', 'Etobicoke', 'Westmount'], ['M1R', 'Scarborough', 'Maryvale'], ['M1R', 'Scarborough', 'Wexford'], ['M2R', 'North York', 'Willowdale West'], ['M3R', 'Not assigned', 'Not assigned'], ['M4R', 'Central Toronto', 'North Toronto West'], ['M5R', 'Central Toronto', 'The Annex'], ['M5R', 'Central Toronto', 'North Midtown'], ['M5R', 'Central Toronto', 'Yorkville'], ['M6R', 'West Toronto', 'Parkdale'], ['M6R', 'West Toronto', 'Roncesvalles'], ['M7R', 'Mississauga', 'Canada Post Gateway Processing Centre'], ['M8R', 'Not assigned', 'Not assigned'], ['M9R', 'Etobicoke', 'Kingsview Village'], ['M9R', 'Etobicoke', 'Martin Grove Gardens'], ['M9R', 'Etobicoke', 'Richview Gardens'], ['M9R', 'Etobicoke', 'St. Phillips'], ['M1S', 'Scarborough', 'Agincourt'], ['M2S', 'Not assigned', 'Not assigned'], ['M3S', 'Not assigned', 'Not assigned'], ['M4S', 'Central Toronto', 'Davisville'], ['M5S', 'Downtown Toronto', 'Harbord'], ['M5S', 'Downtown Toronto', 'University of Toronto'], ['M6S', 'West Toronto', 'Runnymede'], ['M6S', 'West Toronto', 'Swansea'], ['M7S', 'Not assigned', 'Not assigned'], ['M8S', 'Not assigned', 'Not assigned'], ['M9S', 'Not assigned', 'Not assigned'], ['M1T', 'Scarborough', 'Clarks Corners'], ['M1T', 'Scarborough', 'Sullivan'], ['M1T', 'Scarborough', \"Tam O'Shanter\"], ['M2T', 'Not assigned', 'Not assigned'], ['M3T', 'Not assigned', 'Not assigned'], ['M4T', 'Central Toronto', 'Moore Park'], ['M4T', 'Central Toronto', 'Summerhill East'], ['M5T', 'Downtown Toronto', 'Chinatown'], ['M5T', 'Downtown Toronto', 'Grange Park'], ['M5T', 'Downtown Toronto', 'Kensington Market'], ['M6T', 'Not assigned', 'Not assigned'], ['M7T', 'Not assigned', 'Not assigned'], ['M8T', 'Not assigned', 'Not assigned'], ['M9T', 'Not assigned', 'Not assigned'], ['M1V', 'Scarborough', 'Agincourt North'], ['M1V', 'Scarborough', \"L'Amoreaux East\"], ['M1V', 'Scarborough', 'Milliken'], ['M1V', 'Scarborough', 'Steeles East'], ['M2V', 'Not assigned', 'Not assigned'], ['M3V', 'Not assigned', 'Not assigned'], ['M4V', 'Central Toronto', 'Deer Park'], ['M4V', 'Central Toronto', 'Forest Hill SE'], ['M4V', 'Central Toronto', 'Rathnelly'], ['M4V', 'Central Toronto', 'South Hill'], ['M4V', 'Central Toronto', 'Summerhill West'], ['M5V', 'Downtown Toronto', 'CN Tower'], ['M5V', 'Downtown Toronto', 'Bathurst Quay'], ['M5V', 'Downtown Toronto', 'Island airport'], ['M5V', 'Downtown Toronto', 'Harbourfront West'], ['M5V', 'Downtown Toronto', 'King and Spadina'], ['M5V', 'Downtown Toronto', 'Railway Lands'], ['M5V', 'Downtown Toronto', 'South Niagara'], ['M6V', 'Not assigned', 'Not assigned'], ['M7V', 'Not assigned', 'Not assigned'], ['M8V', 'Etobicoke', 'Humber Bay Shores'], ['M8V', 'Etobicoke', 'Mimico South'], ['M8V', 'Etobicoke', 'New Toronto'], ['M9V', 'Etobicoke', 'Albion Gardens'], ['M9V', 'Etobicoke', 'Beaumond Heights'], ['M9V', 'Etobicoke', 'Humbergate'], ['M9V', 'Etobicoke', 'Jamestown'], ['M9V', 'Etobicoke', 'Mount Olive'], ['M9V', 'Etobicoke', 'Silverstone'], ['M9V', 'Etobicoke', 'South Steeles'], ['M9V', 'Etobicoke', 'Thistletown'], ['M1W', 'Scarborough', \"L'Amoreaux West\"], ['M2W', 'Not assigned', 'Not assigned'], ['M3W', 'Not assigned', 'Not assigned'], ['M4W', 'Downtown Toronto', 'Rosedale'], ['M5W', 'Downtown Toronto', 'Stn A PO Boxes 25 The Esplanade'], ['M6W', 'Not assigned', 'Not assigned'], ['M7W', 'Not assigned', 'Not assigned'], ['M8W', 'Etobicoke', 'Alderwood'], ['M8W', 'Etobicoke', 'Long Branch'], ['M9W', 'Etobicoke', 'Northwest'], ['M1X', 'Scarborough', 'Upper Rouge'], ['M2X', 'Not assigned', 'Not assigned'], ['M3X', 'Not assigned', 'Not assigned'], ['M4X', 'Downtown Toronto', 'Cabbagetown'], ['M4X', 'Downtown Toronto', 'St. James Town'], ['M5X', 'Downtown Toronto', 'First Canadian Place'], ['M5X', 'Downtown Toronto', 'Underground city'], ['M6X', 'Not assigned', 'Not assigned'], ['M7X', 'Not assigned', 'Not assigned'], ['M8X', 'Etobicoke', 'The Kingsway'], ['M8X', 'Etobicoke', 'Montgomery Road'], ['M8X', 'Etobicoke', 'Old Mill North'], ['M9X', 'Not assigned', 'Not assigned'], ['M1Y', 'Not assigned', 'Not assigned'], ['M2Y', 'Not assigned', 'Not assigned'], ['M3Y', 'Not assigned', 'Not assigned'], ['M4Y', 'Downtown Toronto', 'Church and Wellesley'], ['M5Y', 'Not assigned', 'Not assigned'], ['M6Y', 'Not assigned', 'Not assigned'], ['M7Y', 'East Toronto', 'Business Reply Mail Processing Centre 969 Eastern'], ['M8Y', 'Etobicoke', 'Humber Bay'], ['M8Y', 'Etobicoke', \"King's Mill Park\"], ['M8Y', 'Etobicoke', 'Kingsway Park South East'], ['M8Y', 'Etobicoke', 'Mimico NE'], ['M8Y', 'Etobicoke', 'Old Mill South'], ['M8Y', 'Etobicoke', 'The Queensway East'], ['M8Y', 'Etobicoke', 'Royal York South East'], ['M8Y', 'Etobicoke', 'Sunnylea'], ['M9Y', 'Not assigned', 'Not assigned'], ['M1Z', 'Not assigned', 'Not assigned'], ['M2Z', 'Not assigned', 'Not assigned'], ['M3Z', 'Not assigned', 'Not assigned'], ['M4Z', 'Not assigned', 'Not assigned'], ['M5Z', 'Not assigned', 'Not assigned'], ['M6Z', 'Not assigned', 'Not assigned'], ['M7Z', 'Not assigned', 'Not assigned'], ['M8Z', 'Etobicoke', 'Kingsway Park South West'], ['M8Z', 'Etobicoke', 'Mimico NW'], ['M8Z', 'Etobicoke', 'The Queensway West'], ['M8Z', 'Etobicoke', 'Royal York South West'], ['M8Z', 'Etobicoke', 'South of Bloor'], ['M9Z', 'Not assigned', 'Not assigned'], [''], ['', ''], ['\\n\\n\\nNL\\n\\nNS\\n\\nPE\\n\\nNB\\n\\nQC\\n\\nON\\n\\nMB\\n\\nSK\\n\\nAB\\n\\nBC\\n\\nNU/NT\\n\\nYT\\n\\n\\nA\\n\\nB\\n\\nC\\n\\nE\\n\\nG\\n\\nH\\n\\nJ\\n\\nK\\n\\nL\\n\\nM\\n\\nN\\n\\nP\\n\\nR\\n\\nS\\n\\nT\\n\\nV\\n\\nX\\n\\nY', 'NL', 'NS', 'PE', 'NB', 'QC', 'ON', 'MB', 'SK', 'AB', 'BC', 'NU/NT', 'YT', 'A', 'B', 'C', 'E', 'G', 'H', 'J', 'K', 'L', 'M', 'N', 'P', 'R', 'S', 'T', 'V', 'X', 'Y'], ['NL', 'NS', 'PE', 'NB', 'QC', 'ON', 'MB', 'SK', 'AB', 'BC', 'NU/NT', 'YT'], ['A', 'B', 'C', 'E', 'G', 'H', 'J', 'K', 'L', 'M', 'N', 'P', 'R', 'S', 'T', 'V', 'X', 'Y']]\n###########################\nCompleted for web scraping!\n"
                }
            ], 
            "source": "initial=True\n#print (len(tr_rows))\n\nfor tr_row in tr_rows:\n    #print (tr_row)\n    #print (\"-----------------\")\n    if initial==True:\n        col=[]\n        th=tr_row.find_all('th')\n        #print (th)\n        for th_row in th:\n            #print (th_row.text)\n            col.append(str(th_row.text).rstrip())\n        \n        initial=False\n        \n    else:\n        data=[]\n        td=tr_row.find_all('td')\n        #print (td)\n        for td_row in td:\n            #print (td_row.text)\n            data.append(str(td_row.text).rstrip())\n            \n        #append data into list\n        nb_data.append(data)\n    \n        #print (\"*************\")\n        #print (\"col=\",col)\n        #print (\"data=\",data)\n        #print (\"*************\")\n    \ncolumns = col.copy()\n\nprint (\"###########################\")\nprint (\"columns = \",columns)\nprint (\"nb_data = \",nb_data)\nprint (\"###########################\")\n    \nprint (\"Completed for web scraping!\")"
        }, 
        {
            "execution_count": 187, 
            "cell_type": "code", 
            "metadata": {}, 
            "outputs": [
                {
                    "execution_count": 187, 
                    "metadata": {}, 
                    "data": {
                        "text/html": "<div>\n<style scoped>\n    .dataframe tbody tr th:only-of-type {\n        vertical-align: middle;\n    }\n\n    .dataframe tbody tr th {\n        vertical-align: top;\n    }\n\n    .dataframe thead th {\n        text-align: right;\n    }\n</style>\n<table border=\"1\" class=\"dataframe\">\n  <thead>\n    <tr style=\"text-align: right;\">\n      <th></th>\n      <th>Postcode</th>\n      <th>Borough</th>\n      <th>Neighbourhood</th>\n    </tr>\n  </thead>\n  <tbody>\n    <tr>\n      <th>0</th>\n      <td>M1A</td>\n      <td>Not assigned</td>\n      <td>Not assigned</td>\n    </tr>\n    <tr>\n      <th>1</th>\n      <td>M2A</td>\n      <td>Not assigned</td>\n      <td>Not assigned</td>\n    </tr>\n    <tr>\n      <th>2</th>\n      <td>M3A</td>\n      <td>North York</td>\n      <td>Parkwoods</td>\n    </tr>\n    <tr>\n      <th>3</th>\n      <td>M4A</td>\n      <td>North York</td>\n      <td>Victoria Village</td>\n    </tr>\n    <tr>\n      <th>4</th>\n      <td>M5A</td>\n      <td>Downtown Toronto</td>\n      <td>Harbourfront</td>\n    </tr>\n  </tbody>\n</table>\n</div>", 
                        "text/plain": "  Postcode           Borough     Neighbourhood\n0      M1A      Not assigned      Not assigned\n1      M2A      Not assigned      Not assigned\n2      M3A        North York         Parkwoods\n3      M4A        North York  Victoria Village\n4      M5A  Downtown Toronto      Harbourfront"
                    }, 
                    "output_type": "execute_result"
                }
            ], 
            "source": "#columns = col.copy()\n#print (columns)\ndf_toronto = pd.DataFrame(columns=columns)\ndf_toronto.head()\n\nlen_eq_3 = [(len(item) == 3) for item in nb_data]\n#len_eq_3\n\ntoronto_neiborhoods_list=[]\nfor i, cond in zip(range(0,len(len_eq_3)),len_eq_3):\n    #print (i,cond)\n    if cond==True:\n        toronto_neiborhoods_list.append(nb_data[i])\n\n#print (\"Processed data: toronto_neiborhoods_list = \",toronto_neiborhoods_list)\n\n#toronto_neighborhoods = nb_data[1:-5]\n#df for \ndf_toronto = pd.DataFrame(data=toronto_neiborhoods_list, columns=columns)\n\ndf_toronto.head()"
        }, 
        {
            "source": "- Only process the cells that have an assigned borough. Ignore cells with a borough that is Not assigned.", 
            "cell_type": "markdown", 
            "metadata": {}
        }, 
        {
            "execution_count": 188, 
            "cell_type": "code", 
            "metadata": {}, 
            "outputs": [
                {
                    "execution_count": 188, 
                    "metadata": {}, 
                    "data": {
                        "text/html": "<div>\n<style scoped>\n    .dataframe tbody tr th:only-of-type {\n        vertical-align: middle;\n    }\n\n    .dataframe tbody tr th {\n        vertical-align: top;\n    }\n\n    .dataframe thead th {\n        text-align: right;\n    }\n</style>\n<table border=\"1\" class=\"dataframe\">\n  <thead>\n    <tr style=\"text-align: right;\">\n      <th></th>\n      <th>Postcode</th>\n      <th>Borough</th>\n      <th>Neighbourhood</th>\n    </tr>\n  </thead>\n  <tbody>\n    <tr>\n      <th>0</th>\n      <td>M3A</td>\n      <td>North York</td>\n      <td>Parkwoods</td>\n    </tr>\n    <tr>\n      <th>1</th>\n      <td>M4A</td>\n      <td>North York</td>\n      <td>Victoria Village</td>\n    </tr>\n    <tr>\n      <th>2</th>\n      <td>M5A</td>\n      <td>Downtown Toronto</td>\n      <td>Harbourfront</td>\n    </tr>\n    <tr>\n      <th>3</th>\n      <td>M5A</td>\n      <td>Downtown Toronto</td>\n      <td>Regent Park</td>\n    </tr>\n    <tr>\n      <th>4</th>\n      <td>M6A</td>\n      <td>North York</td>\n      <td>Lawrence Heights</td>\n    </tr>\n    <tr>\n      <th>5</th>\n      <td>M6A</td>\n      <td>North York</td>\n      <td>Lawrence Manor</td>\n    </tr>\n    <tr>\n      <th>6</th>\n      <td>M7A</td>\n      <td>Queen's Park</td>\n      <td>Not assigned</td>\n    </tr>\n    <tr>\n      <th>7</th>\n      <td>M9A</td>\n      <td>Etobicoke</td>\n      <td>Islington Avenue</td>\n    </tr>\n    <tr>\n      <th>8</th>\n      <td>M1B</td>\n      <td>Scarborough</td>\n      <td>Rouge</td>\n    </tr>\n    <tr>\n      <th>9</th>\n      <td>M1B</td>\n      <td>Scarborough</td>\n      <td>Malvern</td>\n    </tr>\n  </tbody>\n</table>\n</div>", 
                        "text/plain": "  Postcode           Borough     Neighbourhood\n0      M3A        North York         Parkwoods\n1      M4A        North York  Victoria Village\n2      M5A  Downtown Toronto      Harbourfront\n3      M5A  Downtown Toronto       Regent Park\n4      M6A        North York  Lawrence Heights\n5      M6A        North York    Lawrence Manor\n6      M7A      Queen's Park      Not assigned\n7      M9A         Etobicoke  Islington Avenue\n8      M1B       Scarborough             Rouge\n9      M1B       Scarborough           Malvern"
                    }, 
                    "output_type": "execute_result"
                }
            ], 
            "source": "# only get the Borough having value, ignore 'Not assigned'\ndf_toronto_1 = df_toronto[(df_toronto['Borough']!='Not assigned')].reset_index(drop=True)\ndf_toronto_1.head(10)"
        }, 
        {
            "source": "- If a cell has a borough but a Not assigned neighborhood, then the neighborhood will be the same as the borough. So for the 9th cell in the table on the Wikipedia page, the value of the Borough and the Neighborhood columns will be Queen's Park.", 
            "cell_type": "markdown", 
            "metadata": {}
        }, 
        {
            "execution_count": 189, 
            "cell_type": "code", 
            "metadata": {}, 
            "outputs": [
                {
                    "execution_count": 189, 
                    "metadata": {}, 
                    "data": {
                        "text/html": "<div>\n<style scoped>\n    .dataframe tbody tr th:only-of-type {\n        vertical-align: middle;\n    }\n\n    .dataframe tbody tr th {\n        vertical-align: top;\n    }\n\n    .dataframe thead th {\n        text-align: right;\n    }\n</style>\n<table border=\"1\" class=\"dataframe\">\n  <thead>\n    <tr style=\"text-align: right;\">\n      <th></th>\n      <th>Postcode</th>\n      <th>Borough</th>\n      <th>Neighbourhood</th>\n    </tr>\n  </thead>\n  <tbody>\n    <tr>\n      <th>0</th>\n      <td>M3A</td>\n      <td>North York</td>\n      <td>Parkwoods</td>\n    </tr>\n    <tr>\n      <th>1</th>\n      <td>M4A</td>\n      <td>North York</td>\n      <td>Victoria Village</td>\n    </tr>\n    <tr>\n      <th>2</th>\n      <td>M5A</td>\n      <td>Downtown Toronto</td>\n      <td>Harbourfront</td>\n    </tr>\n    <tr>\n      <th>3</th>\n      <td>M5A</td>\n      <td>Downtown Toronto</td>\n      <td>Regent Park</td>\n    </tr>\n    <tr>\n      <th>4</th>\n      <td>M6A</td>\n      <td>North York</td>\n      <td>Lawrence Heights</td>\n    </tr>\n    <tr>\n      <th>5</th>\n      <td>M6A</td>\n      <td>North York</td>\n      <td>Lawrence Manor</td>\n    </tr>\n    <tr>\n      <th>6</th>\n      <td>M7A</td>\n      <td>Queen's Park</td>\n      <td>Queen's Park</td>\n    </tr>\n    <tr>\n      <th>7</th>\n      <td>M9A</td>\n      <td>Etobicoke</td>\n      <td>Islington Avenue</td>\n    </tr>\n    <tr>\n      <th>8</th>\n      <td>M1B</td>\n      <td>Scarborough</td>\n      <td>Rouge</td>\n    </tr>\n    <tr>\n      <th>9</th>\n      <td>M1B</td>\n      <td>Scarborough</td>\n      <td>Malvern</td>\n    </tr>\n  </tbody>\n</table>\n</div>", 
                        "text/plain": "  Postcode           Borough     Neighbourhood\n0      M3A        North York         Parkwoods\n1      M4A        North York  Victoria Village\n2      M5A  Downtown Toronto      Harbourfront\n3      M5A  Downtown Toronto       Regent Park\n4      M6A        North York  Lawrence Heights\n5      M6A        North York    Lawrence Manor\n6      M7A      Queen's Park      Queen's Park\n7      M9A         Etobicoke  Islington Avenue\n8      M1B       Scarborough             Rouge\n9      M1B       Scarborough           Malvern"
                    }, 
                    "output_type": "execute_result"
                }
            ], 
            "source": "#Neighbourhood have 'Not assigned' value replace the same name of Borough\nfor i,item in zip(range(0,len(df_toronto_1['Neighbourhood'])),df_toronto_1['Neighbourhood']):\n    #print (i,item)\n    if item=='Not assigned':\n        df_toronto_1.loc[i,'Neighbourhood'] = df_toronto_1.loc[i,'Borough']\n        \ndf_toronto_1.head(10)"
        }, 
        {
            "source": "- reset index", 
            "cell_type": "markdown", 
            "metadata": {}
        }, 
        {
            "execution_count": 194, 
            "cell_type": "code", 
            "metadata": {}, 
            "outputs": [
                {
                    "output_type": "stream", 
                    "name": "stdout", 
                    "text": "Index(['Postcode', 'Borough', 'Neighbourhood'], dtype='object')\n"
                }
            ], 
            "source": "df_toronto_1.reset_index(drop=True, inplace=True)\ndf_toronto_1.head()\nprint (df_toronto_1.columns)"
        }, 
        {
            "source": "- More than one neighborhood can exist in one postal code area. For example, in the table on the Wikipedia page, you will notice that M5A is listed twice and has two neighborhoods: Harbourfront and Regent Park. These two rows will be combined into one row with the neighborhoods **separated with a comma as shown in row 11** in the above table.", 
            "cell_type": "markdown", 
            "metadata": {}
        }, 
        {
            "execution_count": 191, 
            "cell_type": "code", 
            "metadata": {}, 
            "outputs": [
                {
                    "execution_count": 191, 
                    "metadata": {}, 
                    "data": {
                        "text/html": "<div>\n<style scoped>\n    .dataframe tbody tr th:only-of-type {\n        vertical-align: middle;\n    }\n\n    .dataframe tbody tr th {\n        vertical-align: top;\n    }\n\n    .dataframe thead th {\n        text-align: right;\n    }\n</style>\n<table border=\"1\" class=\"dataframe\">\n  <thead>\n    <tr style=\"text-align: right;\">\n      <th></th>\n      <th></th>\n      <th>Neighbourhood</th>\n    </tr>\n    <tr>\n      <th>Postcode</th>\n      <th>Borough</th>\n      <th></th>\n    </tr>\n  </thead>\n  <tbody>\n    <tr>\n      <th>M3A</th>\n      <th>North York</th>\n      <td>Parkwoods</td>\n    </tr>\n    <tr>\n      <th>M4A</th>\n      <th>North York</th>\n      <td>Victoria Village</td>\n    </tr>\n    <tr>\n      <th>M5A</th>\n      <th>Downtown Toronto</th>\n      <td>Harbourfront,Regent Park</td>\n    </tr>\n    <tr>\n      <th>M6A</th>\n      <th>North York</th>\n      <td>Lawrence Heights,Lawrence Manor</td>\n    </tr>\n    <tr>\n      <th>M7A</th>\n      <th>Queen's Park</th>\n      <td>Queen's Park</td>\n    </tr>\n    <tr>\n      <th>M9A</th>\n      <th>Etobicoke</th>\n      <td>Islington Avenue</td>\n    </tr>\n    <tr>\n      <th>M1B</th>\n      <th>Scarborough</th>\n      <td>Rouge,Malvern</td>\n    </tr>\n    <tr>\n      <th>M3B</th>\n      <th>North York</th>\n      <td>Don Mills North</td>\n    </tr>\n    <tr>\n      <th>M4B</th>\n      <th>East York</th>\n      <td>Woodbine Gardens,Parkview Hill</td>\n    </tr>\n    <tr>\n      <th>M5B</th>\n      <th>Downtown Toronto</th>\n      <td>Ryerson,Garden District</td>\n    </tr>\n  </tbody>\n</table>\n</div>", 
                        "text/plain": "                                             Neighbourhood\nPostcode Borough                                          \nM3A      North York                              Parkwoods\nM4A      North York                       Victoria Village\nM5A      Downtown Toronto         Harbourfront,Regent Park\nM6A      North York        Lawrence Heights,Lawrence Manor\nM7A      Queen's Park                         Queen's Park\nM9A      Etobicoke                        Islington Avenue\nM1B      Scarborough                         Rouge,Malvern\nM3B      North York                        Don Mills North\nM4B      East York          Woodbine Gardens,Parkview Hill\nM5B      Downtown Toronto          Ryerson,Garden District"
                    }, 
                    "output_type": "execute_result"
                }
            ], 
            "source": "#df_toronto_1['Neighbourhood'].astype(str)\n#df_toronto_1.dtypes\n\ndf_toronto_2 = df_toronto_1.groupby(['Postcode','Borough'],sort=False).agg(lambda x: ','.join(x))\ndf_toronto_2.head(10)"
        }, 
        {
            "source": "- use the **.shape** method to print the number of rows of your dataframe.", 
            "cell_type": "markdown", 
            "metadata": {}
        }, 
        {
            "execution_count": 199, 
            "cell_type": "code", 
            "metadata": {}, 
            "outputs": [
                {
                    "execution_count": 199, 
                    "metadata": {}, 
                    "data": {
                        "text/plain": "(103, 1)"
                    }, 
                    "output_type": "execute_result"
                }
            ], 
            "source": "df_toronto_2.shape\n#print (df_toronto_2.columns)\n#print (df_toronto_2.index)"
        }, 
        {
            "source": "**COMPLETE DATA SCRAPING AND PROCESSING!!!**", 
            "cell_type": "markdown", 
            "metadata": {
                "collapsed": true
            }
        }, 
        {
            "execution_count": null, 
            "cell_type": "code", 
            "metadata": {}, 
            "outputs": [], 
            "source": ""
        }
    ], 
    "metadata": {
        "kernelspec": {
            "display_name": "Python 3.5", 
            "name": "python3", 
            "language": "python"
        }, 
        "language_info": {
            "mimetype": "text/x-python", 
            "nbconvert_exporter": "python", 
            "version": "3.5.5", 
            "name": "python", 
            "file_extension": ".py", 
            "pygments_lexer": "ipython3", 
            "codemirror_mode": {
                "version": 3, 
                "name": "ipython"
            }
        }
    }, 
    "nbformat": 4
}